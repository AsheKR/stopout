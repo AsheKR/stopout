{
 "cells": [
  {
   "cell_type": "markdown",
   "metadata": {},
   "source": [
    "### 11. `url`주소로부터 아래 결과를 출력한다. [10점]\n",
    "\n",
    "> 공지사항이 추가되면 결과는 달라질 수 있으므로, 실제 게시판의 목록이 출력되는지 확인\n",
    "> \n",
    "> top이라는 텍스트는 포함되어도 무관"
   ]
  },
  {
   "cell_type": "code",
   "execution_count": 2,
   "metadata": {},
   "outputs": [],
   "source": [
    "url = 'http://www.leagueoflegends.co.kr/?m=news&cate=notice'"
   ]
  },
  {
   "cell_type": "code",
   "execution_count": 3,
   "metadata": {},
   "outputs": [],
   "source": [
    "import requests\n",
    "\n",
    "html = requests.get(url)"
   ]
  },
  {
   "cell_type": "code",
   "execution_count": 5,
   "metadata": {},
   "outputs": [],
   "source": [
    "from bs4 import BeautifulSoup\n",
    "\n",
    "soup = BeautifulSoup(html.content, 'lxml')"
   ]
  },
  {
   "cell_type": "code",
   "execution_count": 24,
   "metadata": {},
   "outputs": [],
   "source": [
    "notice_list = soup.select('.request-list.info-type02 tr')[1:]"
   ]
  },
  {
   "cell_type": "code",
   "execution_count": 27,
   "metadata": {},
   "outputs": [
    {
     "name": "stdout",
     "output_type": "stream",
     "text": [
      "승리를 쟁취하라\n",
      "10월 14일(일) 금융기관별 결제 서비스 점검 안내\n",
      "대리 게임 등 적발 현황 281차 안내\n",
      "부정행위 프로그램 제재 현황 안내\n",
      "인생챔프 : 큐베 - 나르편\n",
      "임무 기능 장애 현상 안내 (정상화)\n",
      "LCK팀의 Worlds가 오늘 시작됩니다!\n",
      "임무 기능 장애 현상 안내 (정상화)\n",
      "2018 월드 챔피언십 그룹 스테이지 현장 라이엇 스토어 운영 안내\n",
      "10월 10일(수) 서버 점검 및 업데이트 안내 (완료)\n"
     ]
    }
   ],
   "source": [
    "for notice_soup in notice_list:\n",
    "    one_notice = notice_soup.select_one('a').get_text()\n",
    "    print(one_notice)"
   ]
  },
  {
   "cell_type": "code",
   "execution_count": null,
   "metadata": {},
   "outputs": [],
   "source": []
  }
 ],
 "metadata": {
  "kernelspec": {
   "display_name": "Python 3",
   "language": "python",
   "name": "python3"
  },
  "language_info": {
   "codemirror_mode": {
    "name": "ipython",
    "version": 3
   },
   "file_extension": ".py",
   "mimetype": "text/x-python",
   "name": "python",
   "nbconvert_exporter": "python",
   "pygments_lexer": "ipython3",
   "version": "3.6.6"
  }
 },
 "nbformat": 4,
 "nbformat_minor": 2
}
