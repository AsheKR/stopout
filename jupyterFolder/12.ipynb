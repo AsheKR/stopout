{
 "cells": [
  {
   "cell_type": "markdown",
   "metadata": {},
   "source": [
    "### 12. `url`주소에 있는 공지사항에 해당하는 `Notice`클래스를 만들고, 크롤링시 공지사항 하나마다 `Notice`클래스 인스턴스를 만들어 `notice_list`리스트에 추가한다. [10점]"
   ]
  },
  {
   "cell_type": "code",
   "execution_count": 8,
   "metadata": {},
   "outputs": [],
   "source": [
    "class Notice:\n",
    "    def __init__(self, title, date, view):\n",
    "        self.title = title\n",
    "        self.date = date\n",
    "        self.view = view"
   ]
  },
  {
   "cell_type": "code",
   "execution_count": 9,
   "metadata": {},
   "outputs": [],
   "source": [
    "url = 'http://www.leagueoflegends.co.kr/?m=news&cate=notice'"
   ]
  },
  {
   "cell_type": "code",
   "execution_count": 10,
   "metadata": {},
   "outputs": [],
   "source": [
    "import requests\n",
    "\n",
    "html = requests.get(url)"
   ]
  },
  {
   "cell_type": "code",
   "execution_count": 11,
   "metadata": {},
   "outputs": [],
   "source": [
    "from bs4 import BeautifulSoup\n",
    "\n",
    "soup = BeautifulSoup(html.content, 'lxml')"
   ]
  },
  {
   "cell_type": "code",
   "execution_count": 12,
   "metadata": {},
   "outputs": [],
   "source": [
    "notice_soup_list = soup.select('.request-list.info-type02 tr')[1:]"
   ]
  },
  {
   "cell_type": "code",
   "execution_count": 13,
   "metadata": {},
   "outputs": [],
   "source": [
    "notice_list = []\n",
    "\n",
    "for notice_soup in notice_soup_list:\n",
    "    notice_title = notice_soup.select_one('a').get_text()\n",
    "    notice_date = notice_soup.select('td')[1].get_text()\n",
    "    notice_view = notice_soup.select('td')[2].get_text()\n",
    "    notice_list.append(Notice(notice_title, notice_date, notice_view))"
   ]
  },
  {
   "cell_type": "code",
   "execution_count": 14,
   "metadata": {},
   "outputs": [
    {
     "name": "stdout",
     "output_type": "stream",
     "text": [
      "승리를 쟁취하라\n",
      "2018-10-14\n",
      "4,872\n",
      "\n",
      "10월 14일(일) 금융기관별 결제 서비스 점검 안내\n",
      "2018-10-12\n",
      "1,270\n",
      "\n",
      "대리 게임 등 적발 현황 281차 안내\n",
      "2018-10-12\n",
      "2,166\n",
      "\n",
      "부정행위 프로그램 제재 현황 안내\n",
      "2018-10-12\n",
      "920\n",
      "\n",
      "인생챔프 : 큐베 - 나르편\n",
      "2018-10-11\n",
      "1,521\n",
      "\n",
      "임무 기능 장애 현상 안내 (정상화)\n",
      "2018-10-10\n",
      "2,478\n",
      "\n",
      "LCK팀의 Worlds가 오늘 시작됩니다!\n",
      "2018-10-10\n",
      "2,804\n",
      "\n",
      "임무 기능 장애 현상 안내 (정상화)\n",
      "2018-10-09\n",
      "9,652\n",
      "\n",
      "2018 월드 챔피언십 그룹 스테이지 현장 라이엇 스토어 운영 안내\n",
      "2018-10-09\n",
      "3,446\n",
      "\n",
      "10월 10일(수) 서버 점검 및 업데이트 안내 (완료)\n",
      "2018-10-09\n",
      "12,263\n",
      "\n"
     ]
    }
   ],
   "source": [
    "for notice in notice_list:\n",
    "\tprint(notice.title)\n",
    "\tprint(notice.date)\n",
    "\tprint(notice.view)\n",
    "\tprint()"
   ]
  },
  {
   "cell_type": "code",
   "execution_count": null,
   "metadata": {},
   "outputs": [],
   "source": []
  }
 ],
 "metadata": {
  "kernelspec": {
   "display_name": "Python 3",
   "language": "python",
   "name": "python3"
  },
  "language_info": {
   "codemirror_mode": {
    "name": "ipython",
    "version": 3
   },
   "file_extension": ".py",
   "mimetype": "text/x-python",
   "name": "python",
   "nbconvert_exporter": "python",
   "pygments_lexer": "ipython3",
   "version": "3.6.6"
  }
 },
 "nbformat": 4,
 "nbformat_minor": 2
}
