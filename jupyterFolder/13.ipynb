{
 "cells": [
  {
   "cell_type": "markdown",
   "metadata": {},
   "source": [
    "### 13. runserver가 `localhost:8000`에서 입력을 받는 상태로 동작 중일 때, 브라우저에서 `http://localhost:8000/abc/` 라는 URL을 입력하면 어떤 절차를 거쳐 사용자에게 다시 화면을 보여주는지 서술하시오. [10점]"
   ]
  },
  {
   "cell_type": "markdown",
   "metadata": {},
   "source": [
    "1. `runserver`가 `http://localhost:8000/abc/`를 받아 `urlresolver`로 보냄\n",
    "2. `urls.py`에서 `/abc/`와 맞는 표현식이 있다면 해당 라인(해당 라인의 함수)을 실행\n",
    "3. 해당 라인(해당 함수에서)에서 리턴하는 것(HttpResponse)을 브라우저에 표시"
   ]
  },
  {
   "cell_type": "code",
   "execution_count": null,
   "metadata": {},
   "outputs": [],
   "source": []
  }
 ],
 "metadata": {
  "kernelspec": {
   "display_name": "Python 3",
   "language": "python",
   "name": "python3"
  },
  "language_info": {
   "codemirror_mode": {
    "name": "ipython",
    "version": 3
   },
   "file_extension": ".py",
   "mimetype": "text/x-python",
   "name": "python",
   "nbconvert_exporter": "python",
   "pygments_lexer": "ipython3",
   "version": "3.6.6"
  }
 },
 "nbformat": 4,
 "nbformat_minor": 2
}
