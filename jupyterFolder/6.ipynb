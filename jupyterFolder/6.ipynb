{
 "cells": [
  {
   "cell_type": "markdown",
   "metadata": {},
   "source": [
    "### 6. 튜플 언패킹에 대해 서술하고, `pokemon_info` 객체를 순회할 때 튜플 언패킹을 사용하는 예제 코드를 작성하시오. [10점]"
   ]
  },
  {
   "cell_type": "code",
   "execution_count": 1,
   "metadata": {},
   "outputs": [],
   "source": [
    "pokemon_info = [\n",
    "    ('피카츄', '전기 타입'),\n",
    "    ('파이리', '불 타입'),\n",
    "    ('꼬부기', '물 타입'),\n",
    "    ('이상해씨', '풀 타입'),\n",
    "]"
   ]
  },
  {
   "cell_type": "code",
   "execution_count": 3,
   "metadata": {},
   "outputs": [
    {
     "name": "stdout",
     "output_type": "stream",
     "text": [
      "==================\n",
      "Pokemon:  피카츄\n",
      "Type   :  전기 타입\n",
      "==================\n",
      "Pokemon:  파이리\n",
      "Type   :  불 타입\n",
      "==================\n",
      "Pokemon:  꼬부기\n",
      "Type   :  물 타입\n",
      "==================\n",
      "Pokemon:  이상해씨\n",
      "Type   :  풀 타입\n"
     ]
    }
   ],
   "source": [
    "for pokemon, ptype in pokemon_info:\n",
    "    print('==================')\n",
    "    print('Pokemon: ', pokemon)\n",
    "    print('Type   : ', ptype)"
   ]
  },
  {
   "cell_type": "markdown",
   "metadata": {},
   "source": [
    "### 튜플의 요소를 여러개의 변수에 할당하는 것을 튜플 언패킹이라고 한다."
   ]
  },
  {
   "cell_type": "code",
   "execution_count": null,
   "metadata": {},
   "outputs": [],
   "source": []
  }
 ],
 "metadata": {
  "kernelspec": {
   "display_name": "Python 3",
   "language": "python",
   "name": "python3"
  },
  "language_info": {
   "codemirror_mode": {
    "name": "ipython",
    "version": 3
   },
   "file_extension": ".py",
   "mimetype": "text/x-python",
   "name": "python",
   "nbconvert_exporter": "python",
   "pygments_lexer": "ipython3",
   "version": "3.6.6"
  }
 },
 "nbformat": 4,
 "nbformat_minor": 2
}
