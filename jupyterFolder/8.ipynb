{
 "cells": [
  {
   "cell_type": "markdown",
   "metadata": {},
   "source": [
    "### 8. 클래스와 인스턴스의 다음 사항들에 대해 서술하시오."
   ]
  },
  {
   "cell_type": "markdown",
   "metadata": {},
   "source": [
    "- 클래스와 인스턴스의 차이점 [2점]\n",
    "\n",
    "#### 클래스는 틀이고, 인스턴스는 그 틀로 만들어진 `특정` 객체이다.\n",
    "\n",
    "- 클래스의 생성자 함수 이름 [1점]\n",
    "\n",
    "`def __init__(self):`\n",
    "\n",
    "- 클래스의 생성자 함수가 호출되는 시점은? [2점]\n",
    "\n",
    "#### 인스턴스가 생성되었을 때 생성자 함수가 호출된다.\n",
    "\n",
    "- 인스턴스 메서드의 `self`매개변수의 의미 [4점]\n",
    "\n",
    "#### 특정 인스턴스(자신의 인스턴스)를 가리킨다."
   ]
  },
  {
   "cell_type": "code",
   "execution_count": null,
   "metadata": {},
   "outputs": [],
   "source": []
  }
 ],
 "metadata": {
  "kernelspec": {
   "display_name": "Python 3",
   "language": "python",
   "name": "python3"
  },
  "language_info": {
   "codemirror_mode": {
    "name": "ipython",
    "version": 3
   },
   "file_extension": ".py",
   "mimetype": "text/x-python",
   "name": "python",
   "nbconvert_exporter": "python",
   "pygments_lexer": "ipython3",
   "version": "3.6.6"
  }
 },
 "nbformat": 4,
 "nbformat_minor": 2
}
